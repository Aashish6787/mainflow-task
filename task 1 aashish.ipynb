{
 "cells": [
  {
   "cell_type": "code",
   "execution_count": 1,
   "id": "10a53d76-922b-4a18-acd2-5ea6066479b1",
   "metadata": {},
   "outputs": [
    {
     "name": "stdout",
     "output_type": "stream",
     "text": [
      "updated list: [10, 2, 4, 5, 6]\n"
     ]
    }
   ],
   "source": [
    "#creating a list \n",
    "my_list = [1,2,3,4,5]\n",
    "\n",
    "#adding an element to the list \n",
    "my_list.append(6)\n",
    "\n",
    "#removing an element from the list\n",
    "my_list.remove(3)\n",
    "\n",
    "#modifying an element in the list\n",
    "my_list[0] = 10\n",
    "\n",
    "print(\"updated list:\" , my_list)\n",
    "\n"
   ]
  },
  {
   "cell_type": "code",
   "execution_count": 2,
   "id": "3d6dd9c7-7882-4a13-96b9-fd93dc33659c",
   "metadata": {},
   "outputs": [
    {
     "name": "stdout",
     "output_type": "stream",
     "text": [
      "updated dictionary: {'name': 'john', 'city': 'mumbai', 'gender': 'male'}\n"
     ]
    }
   ],
   "source": [
    "#creating a dictionary\n",
    "my_dict = {'name': 'john' , 'age':25, 'city': 'delhi'}\n",
    "\n",
    "#adding\n",
    "my_dict['gender'] = 'male'\n",
    "\n",
    "#removing\n",
    "del my_dict['age']\n",
    "\n",
    "#modifying\n",
    "my_dict['city'] ='mumbai'\n",
    "\n",
    "print(\"updated dictionary:\" , my_dict)\n"
   ]
  },
  {
   "cell_type": "code",
   "execution_count": 3,
   "id": "4fc5a178-e1a1-45fc-bded-7b8c26a4cd45",
   "metadata": {},
   "outputs": [
    {
     "name": "stdout",
     "output_type": "stream",
     "text": [
      "updated set: {2, 4, 5, 6, 10}\n"
     ]
    }
   ],
   "source": [
    "#creating a set \n",
    "my_set = {1,2,3,4,5}\n",
    "\n",
    "#adding\n",
    "my_set.add(6)\n",
    "\n",
    "#removing\n",
    "my_set.remove(3)\n",
    "\n",
    "#modifying\n",
    "my_set.discard(1)\n",
    "my_set.add(10)\n",
    "\n",
    "print(\"updated set:\" , my_set)"
   ]
  },
  {
   "cell_type": "code",
   "execution_count": null,
   "id": "034f59f3-2449-4404-9129-dd37366f8e53",
   "metadata": {},
   "outputs": [],
   "source": []
  }
 ],
 "metadata": {
  "kernelspec": {
   "display_name": "Python 3 (ipykernel)",
   "language": "python",
   "name": "python3"
  },
  "language_info": {
   "codemirror_mode": {
    "name": "ipython",
    "version": 3
   },
   "file_extension": ".py",
   "mimetype": "text/x-python",
   "name": "python",
   "nbconvert_exporter": "python",
   "pygments_lexer": "ipython3",
   "version": "3.12.4"
  }
 },
 "nbformat": 4,
 "nbformat_minor": 5
}
